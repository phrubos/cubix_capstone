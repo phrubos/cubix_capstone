{
 "cells": [
  {
   "cell_type": "code",
   "execution_count": 1,
   "id": "6f4861d1",
   "metadata": {},
   "outputs": [],
   "source": [
    "import pandas as pd\n",
    "import glob\n",
    "\n",
    "# Read all parquet files and combine them\n",
    "parquet_files = glob.glob(r\"C:\\Users\\peter\\Desktop\\DataEngineering_Course2025\\python_projects\\cubix_capstone\\final result\\part-*.parquet\")\n",
    "dataframes = [pd.read_parquet(file) for file in parquet_files]\n",
    "complete_df = pd.concat(dataframes, ignore_index=True)\n",
    "\n",
    "# Save as single file\n",
    "complete_df.to_parquet(r\"C:\\Users\\peter\\Desktop\\DataEngineering_Course2025\\python_projects\\cubix_capstone\\final result\\wide_sales_complete.parquet\")\n"
   ]
  },
  {
   "cell_type": "code",
   "execution_count": 2,
   "id": "2983cc6c",
   "metadata": {},
   "outputs": [
    {
     "data": {
      "text/plain": [
       "(60398, 58)"
      ]
     },
     "execution_count": 2,
     "metadata": {},
     "output_type": "execute_result"
    }
   ],
   "source": [
    "complete_df.shape"
   ]
  }
 ],
 "metadata": {
  "kernelspec": {
   "display_name": ".venv",
   "language": "python",
   "name": "python3"
  },
  "language_info": {
   "codemirror_mode": {
    "name": "ipython",
    "version": 3
   },
   "file_extension": ".py",
   "mimetype": "text/x-python",
   "name": "python",
   "nbconvert_exporter": "python",
   "pygments_lexer": "ipython3",
   "version": "3.11.9"
  }
 },
 "nbformat": 4,
 "nbformat_minor": 5
}
